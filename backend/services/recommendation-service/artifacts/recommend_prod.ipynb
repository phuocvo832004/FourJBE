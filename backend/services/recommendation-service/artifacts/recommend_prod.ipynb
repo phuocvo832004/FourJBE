{
 "cells": [
  {
   "cell_type": "code",
   "execution_count": 1,
   "id": "a3ecf435",
   "metadata": {},
   "outputs": [
    {
     "data": {
      "text/plain": [
       "True"
      ]
     },
     "execution_count": 1,
     "metadata": {},
     "output_type": "execute_result"
    }
   ],
   "source": [
    "import base64\n",
    "import io\n",
    "import math\n",
    "import os\n",
    "import uuid\n",
    "from datetime import datetime, timezone\n",
    "from azure.cosmos import CosmosClient, PartitionKey\n",
    "from dotenv import load_dotenv\n",
    "load_dotenv()"
   ]
  },
  {
   "cell_type": "code",
   "execution_count": null,
   "id": "8fea3fe3",
   "metadata": {},
   "outputs": [],
   "source": [
    "COSMOS_ENDPOINT = os.getenv('COSMOS_ENDPOINT', \"\")\n",
    "COSMOS_KEY = os.getenv('COSMOS_KEY')\n",
    "COSMOS_DATABASE_NAME = os.getenv('COSMOS_DATABASE_NAME', \"\")\n",
    "COSMOS_CONTAINER_NAME = os.getenv('COSMOS_CONTAINER_NAME', \"\")"
   ]
  },
  {
   "cell_type": "code",
   "execution_count": null,
   "id": "d2ca47f0",
   "metadata": {},
   "outputs": [],
   "source": []
  },
  {
   "cell_type": "code",
   "execution_count": null,
   "id": "67775150",
   "metadata": {},
   "outputs": [],
   "source": []
  },
  {
   "cell_type": "code",
   "execution_count": null,
   "id": "c11a5770",
   "metadata": {},
   "outputs": [],
   "source": []
  },
  {
   "cell_type": "code",
   "execution_count": null,
   "id": "22a21f75",
   "metadata": {},
   "outputs": [],
   "source": []
  },
  {
   "cell_type": "code",
   "execution_count": null,
   "id": "228b2424",
   "metadata": {},
   "outputs": [],
   "source": []
  },
  {
   "cell_type": "code",
   "execution_count": null,
   "id": "3e8d99ed",
   "metadata": {},
   "outputs": [],
   "source": []
  }
 ],
 "metadata": {
  "kernelspec": {
   "display_name": "Python 3",
   "language": "python",
   "name": "python3"
  },
  "language_info": {
   "codemirror_mode": {
    "name": "ipython",
    "version": 3
   },
   "file_extension": ".py",
   "mimetype": "text/x-python",
   "name": "python",
   "nbconvert_exporter": "python",
   "pygments_lexer": "ipython3",
   "version": "3.13.2"
  }
 },
 "nbformat": 4,
 "nbformat_minor": 5
}
